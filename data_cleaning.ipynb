{
 "cells": [
  {
   "cell_type": "code",
   "execution_count": 1,
   "id": "db8987cd",
   "metadata": {},
   "outputs": [
    {
     "data": {
      "text/html": [
       "<div>\n",
       "<style scoped>\n",
       "    .dataframe tbody tr th:only-of-type {\n",
       "        vertical-align: middle;\n",
       "    }\n",
       "\n",
       "    .dataframe tbody tr th {\n",
       "        vertical-align: top;\n",
       "    }\n",
       "\n",
       "    .dataframe thead th {\n",
       "        text-align: right;\n",
       "    }\n",
       "</style>\n",
       "<table border=\"1\" class=\"dataframe\">\n",
       "  <thead>\n",
       "    <tr style=\"text-align: right;\">\n",
       "      <th></th>\n",
       "      <th>comment</th>\n",
       "      <th>clean_comment</th>\n",
       "    </tr>\n",
       "  </thead>\n",
       "  <tbody>\n",
       "    <tr>\n",
       "      <th>0</th>\n",
       "      <td>Akhirnya setelah perjalanan panjang! semua end...</td>\n",
       "      <td>akhirnya setelah perjalanan panjang semua endi...</td>\n",
       "    </tr>\n",
       "    <tr>\n",
       "      <th>1</th>\n",
       "      <td>seseru ini dibilang ngebosenin, kalian ga miki...</td>\n",
       "      <td>seseru ini dibilang ngebosenin kalian ga mikir...</td>\n",
       "    </tr>\n",
       "    <tr>\n",
       "      <th>2</th>\n",
       "      <td>Bang, menurut gw bukan maksudnya hubungan pern...</td>\n",
       "      <td>bang menurut gw bukan maksudnya hubungan perni...</td>\n",
       "    </tr>\n",
       "    <tr>\n",
       "      <th>3</th>\n",
       "      <td>Gue nontonin semua setup Silent Hill f di chan...</td>\n",
       "      <td>gue nontonin semua setup silent hill f di chan...</td>\n",
       "    </tr>\n",
       "    <tr>\n",
       "      <th>4</th>\n",
       "      <td>Dari sini kira belajar bahwa mental anak berub...</td>\n",
       "      <td>dari sini kira belajar bahwa mental anak berub...</td>\n",
       "    </tr>\n",
       "  </tbody>\n",
       "</table>\n",
       "</div>"
      ],
      "text/plain": [
       "                                             comment  \\\n",
       "0  Akhirnya setelah perjalanan panjang! semua end...   \n",
       "1  seseru ini dibilang ngebosenin, kalian ga miki...   \n",
       "2  Bang, menurut gw bukan maksudnya hubungan pern...   \n",
       "3  Gue nontonin semua setup Silent Hill f di chan...   \n",
       "4  Dari sini kira belajar bahwa mental anak berub...   \n",
       "\n",
       "                                       clean_comment  \n",
       "0  akhirnya setelah perjalanan panjang semua endi...  \n",
       "1  seseru ini dibilang ngebosenin kalian ga mikir...  \n",
       "2  bang menurut gw bukan maksudnya hubungan perni...  \n",
       "3  gue nontonin semua setup silent hill f di chan...  \n",
       "4  dari sini kira belajar bahwa mental anak berub...  "
      ]
     },
     "execution_count": 1,
     "metadata": {},
     "output_type": "execute_result"
    }
   ],
   "source": [
    "import pandas as pd\n",
    "import re\n",
    "\n",
    "df = pd.read_csv('data/comments.csv')\n",
    "\n",
    "def clean_text(text):\n",
    "    text = re.sub(r\"http\\S+\", \"\", str(text))   # hapus link\n",
    "    text = re.sub(r\"[^a-zA-Z\\s]\", \"\", text)    # hanya huruf\n",
    "    text = text.lower().strip()\n",
    "    return text\n",
    "\n",
    "df['clean_comment'] = df['comment'].apply(clean_text)\n",
    "df.to_csv('data/comments_clean.csv', index=False)\n",
    "df.head()\n"
   ]
  }
 ],
 "metadata": {
  "kernelspec": {
   "display_name": "crawlvenv",
   "language": "python",
   "name": "python3"
  },
  "language_info": {
   "codemirror_mode": {
    "name": "ipython",
    "version": 3
   },
   "file_extension": ".py",
   "mimetype": "text/x-python",
   "name": "python",
   "nbconvert_exporter": "python",
   "pygments_lexer": "ipython3",
   "version": "3.12.0"
  }
 },
 "nbformat": 4,
 "nbformat_minor": 5
}
