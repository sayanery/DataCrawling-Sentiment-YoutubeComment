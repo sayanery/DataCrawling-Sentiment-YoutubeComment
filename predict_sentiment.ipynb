{
 "cells": [
  {
   "cell_type": "code",
   "execution_count": null,
   "id": "7dcb4721",
   "metadata": {},
   "outputs": [
    {
     "name": "stdout",
     "output_type": "stream",
     "text": [
      "✅ Hasil prediksi disimpan di data/comments_sentiment.csv\n"
     ]
    },
    {
     "name": "stderr",
     "output_type": "stream",
     "text": [
      "/Users/sayanery/KULIAH/aplikasiweb/crawlingNLP/crawlvenv/lib/python3.12/site-packages/sklearn/base.py:442: InconsistentVersionWarning: Trying to unpickle estimator CountVectorizer from version 0.22.2.post1 when using version 1.7.2. This might lead to breaking code or invalid results. Use at your own risk. For more info please refer to:\n",
      "https://scikit-learn.org/stable/model_persistence.html#security-maintainability-limitations\n",
      "  warnings.warn(\n",
      "/Users/sayanery/KULIAH/aplikasiweb/crawlingNLP/crawlvenv/lib/python3.12/site-packages/sklearn/base.py:442: InconsistentVersionWarning: Trying to unpickle estimator MultinomialNB from version 0.22.2.post1 when using version 1.7.2. This might lead to breaking code or invalid results. Use at your own risk. For more info please refer to:\n",
      "https://scikit-learn.org/stable/model_persistence.html#security-maintainability-limitations\n",
      "  warnings.warn(\n"
     ]
    },
    {
     "data": {
      "text/html": [
       "<div>\n",
       "<style scoped>\n",
       "    .dataframe tbody tr th:only-of-type {\n",
       "        vertical-align: middle;\n",
       "    }\n",
       "\n",
       "    .dataframe tbody tr th {\n",
       "        vertical-align: top;\n",
       "    }\n",
       "\n",
       "    .dataframe thead th {\n",
       "        text-align: right;\n",
       "    }\n",
       "</style>\n",
       "<table border=\"1\" class=\"dataframe\">\n",
       "  <thead>\n",
       "    <tr style=\"text-align: right;\">\n",
       "      <th></th>\n",
       "      <th>comment</th>\n",
       "      <th>clean_comment</th>\n",
       "      <th>sentiment</th>\n",
       "    </tr>\n",
       "  </thead>\n",
       "  <tbody>\n",
       "    <tr>\n",
       "      <th>0</th>\n",
       "      <td>Akhirnya setelah perjalanan panjang! semua end...</td>\n",
       "      <td>akhirnya setelah perjalanan panjang semua endi...</td>\n",
       "      <td>neutral</td>\n",
       "    </tr>\n",
       "    <tr>\n",
       "      <th>1</th>\n",
       "      <td>seseru ini dibilang ngebosenin, kalian ga miki...</td>\n",
       "      <td>seseru ini dibilang ngebosenin kalian ga mikir...</td>\n",
       "      <td>negative</td>\n",
       "    </tr>\n",
       "    <tr>\n",
       "      <th>2</th>\n",
       "      <td>Bang, menurut gw bukan maksudnya hubungan pern...</td>\n",
       "      <td>bang menurut gw bukan maksudnya hubungan perni...</td>\n",
       "      <td>negative</td>\n",
       "    </tr>\n",
       "    <tr>\n",
       "      <th>3</th>\n",
       "      <td>Gue nontonin semua setup Silent Hill f di chan...</td>\n",
       "      <td>gue nontonin semua setup silent hill f di chan...</td>\n",
       "      <td>positive</td>\n",
       "    </tr>\n",
       "    <tr>\n",
       "      <th>4</th>\n",
       "      <td>Dari sini kira belajar bahwa mental anak berub...</td>\n",
       "      <td>dari sini kira belajar bahwa mental anak berub...</td>\n",
       "      <td>positive</td>\n",
       "    </tr>\n",
       "  </tbody>\n",
       "</table>\n",
       "</div>"
      ],
      "text/plain": [
       "                                             comment  \\\n",
       "0  Akhirnya setelah perjalanan panjang! semua end...   \n",
       "1  seseru ini dibilang ngebosenin, kalian ga miki...   \n",
       "2  Bang, menurut gw bukan maksudnya hubungan pern...   \n",
       "3  Gue nontonin semua setup Silent Hill f di chan...   \n",
       "4  Dari sini kira belajar bahwa mental anak berub...   \n",
       "\n",
       "                                       clean_comment sentiment  \n",
       "0  akhirnya setelah perjalanan panjang semua endi...   neutral  \n",
       "1  seseru ini dibilang ngebosenin kalian ga mikir...  negative  \n",
       "2  bang menurut gw bukan maksudnya hubungan perni...  negative  \n",
       "3  gue nontonin semua setup silent hill f di chan...  positive  \n",
       "4  dari sini kira belajar bahwa mental anak berub...  positive  "
      ]
     },
     "execution_count": 1,
     "metadata": {},
     "output_type": "execute_result"
    }
   ],
   "source": [
    "import pandas as pd\n",
    "import pickle\n",
    "\n",
    "# --- Load model dan vectorizer ---\n",
    "vectorizer = pickle.load(open('model/feature-bow.p', 'rb'))\n",
    "model_nb = pickle.load(open('model/model-nb.p', 'rb'))\n",
    "\n",
    "# --- Load dataset ---\n",
    "df = pd.read_csv('data/comments_clean.csv')\n",
    "\n",
    "# --- Drop NaN ---a\n",
    "df = df.dropna(subset=['clean_comment'])\n",
    "\n",
    "# --- Prediksi sentimen ---\n",
    "X = vectorizer.transform(df['clean_comment'])\n",
    "df['sentiment'] = model_nb.predict(X)\n",
    "\n",
    "# --- Simpan hasil ---\n",
    "df.to_csv('data/comments_sentiment.csv', index=False)\n",
    "print(\"✅ Hasil prediksi disimpan di data/comments_sentiment.csv\")\n",
    "\n",
    "df.head()\n"
   ]
  }
 ],
 "metadata": {
  "kernelspec": {
   "display_name": "crawlvenv",
   "language": "python",
   "name": "python3"
  },
  "language_info": {
   "codemirror_mode": {
    "name": "ipython",
    "version": 3
   },
   "file_extension": ".py",
   "mimetype": "text/x-python",
   "name": "python",
   "nbconvert_exporter": "python",
   "pygments_lexer": "ipython3",
   "version": "3.12.0"
  }
 },
 "nbformat": 4,
 "nbformat_minor": 5
}
