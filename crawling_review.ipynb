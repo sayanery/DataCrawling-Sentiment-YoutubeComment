{
 "cells": [
  {
   "cell_type": "code",
   "execution_count": 3,
   "id": "d2d32599",
   "metadata": {},
   "outputs": [
    {
     "name": "stdout",
     "output_type": "stream",
     "text": [
      "✅ Berhasil menyimpan 201 komentar ke data/comments.csv\n"
     ]
    },
    {
     "data": {
      "text/html": [
       "<div>\n",
       "<style scoped>\n",
       "    .dataframe tbody tr th:only-of-type {\n",
       "        vertical-align: middle;\n",
       "    }\n",
       "\n",
       "    .dataframe tbody tr th {\n",
       "        vertical-align: top;\n",
       "    }\n",
       "\n",
       "    .dataframe thead th {\n",
       "        text-align: right;\n",
       "    }\n",
       "</style>\n",
       "<table border=\"1\" class=\"dataframe\">\n",
       "  <thead>\n",
       "    <tr style=\"text-align: right;\">\n",
       "      <th></th>\n",
       "      <th>comment</th>\n",
       "    </tr>\n",
       "  </thead>\n",
       "  <tbody>\n",
       "    <tr>\n",
       "      <th>0</th>\n",
       "      <td>Akhirnya setelah perjalanan panjang! semua end...</td>\n",
       "    </tr>\n",
       "    <tr>\n",
       "      <th>1</th>\n",
       "      <td>seseru ini dibilang ngebosenin, kalian ga miki...</td>\n",
       "    </tr>\n",
       "    <tr>\n",
       "      <th>2</th>\n",
       "      <td>Bang, menurut gw bukan maksudnya hubungan pern...</td>\n",
       "    </tr>\n",
       "    <tr>\n",
       "      <th>3</th>\n",
       "      <td>Gue nontonin semua setup Silent Hill f di chan...</td>\n",
       "    </tr>\n",
       "    <tr>\n",
       "      <th>4</th>\n",
       "      <td>Dari sini kira belajar bahwa mental anak berub...</td>\n",
       "    </tr>\n",
       "  </tbody>\n",
       "</table>\n",
       "</div>"
      ],
      "text/plain": [
       "                                             comment\n",
       "0  Akhirnya setelah perjalanan panjang! semua end...\n",
       "1  seseru ini dibilang ngebosenin, kalian ga miki...\n",
       "2  Bang, menurut gw bukan maksudnya hubungan pern...\n",
       "3  Gue nontonin semua setup Silent Hill f di chan...\n",
       "4  Dari sini kira belajar bahwa mental anak berub..."
      ]
     },
     "execution_count": 3,
     "metadata": {},
     "output_type": "execute_result"
    }
   ],
   "source": [
    "from youtube_comment_downloader import YoutubeCommentDownloader\n",
    "import pandas as pd\n",
    "\n",
    "url = \"https://www.youtube.com/live/xMaqA8Znypc?si=E68S1FRBx75ujlda\"  # Ganti dengan video pilihanmu\n",
    "\n",
    "downloader = YoutubeCommentDownloader()\n",
    "comments = []\n",
    "\n",
    "for i, comment in enumerate(downloader.get_comments_from_url(url, sort_by=0)):\n",
    "    comments.append(comment['text'])\n",
    "    if i >= 200:  # batasi 200 komentar agar cepat\n",
    "        break\n",
    "\n",
    "df = pd.DataFrame(comments, columns=['comment'])\n",
    "df.to_csv('data/comments.csv', index=False)\n",
    "\n",
    "print(f\"✅ Berhasil menyimpan {len(df)} komentar ke data/comments.csv\")\n",
    "df.head()\n"
   ]
  }
 ],
 "metadata": {
  "kernelspec": {
   "display_name": "crawlvenv",
   "language": "python",
   "name": "python3"
  },
  "language_info": {
   "codemirror_mode": {
    "name": "ipython",
    "version": 3
   },
   "file_extension": ".py",
   "mimetype": "text/x-python",
   "name": "python",
   "nbconvert_exporter": "python",
   "pygments_lexer": "ipython3",
   "version": "3.12.0"
  }
 },
 "nbformat": 4,
 "nbformat_minor": 5
}
